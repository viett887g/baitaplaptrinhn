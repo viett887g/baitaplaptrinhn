{
  "nbformat": 4,
  "nbformat_minor": 0,
  "metadata": {
    "colab": {
      "name": "baitaplaptrinhn.ipynb",
      "provenance": [],
      "authorship_tag": "ABX9TyMBg+8KS3p/A5/ijKgQyxvs",
      "include_colab_link": true
    },
    "kernelspec": {
      "name": "python3",
      "display_name": "Python 3"
    },
    "language_info": {
      "name": "python"
    }
  },
  "cells": [
    {
      "cell_type": "markdown",
      "metadata": {
        "id": "view-in-github",
        "colab_type": "text"
      },
      "source": [
        "<a href=\"https://colab.research.google.com/github/viett887g/baitaplaptrinhn/blob/main/baitaplaptrinhn.ipynb\" target=\"_parent\"><img src=\"https://colab.research.google.com/assets/colab-badge.svg\" alt=\"Open In Colab\"/></a>"
      ]
    },
    {
      "cell_type": "code",
      "metadata": {
        "id": "ZIaVrCtZHBzA"
      },
      "source": [
        "Write a Python program to find the number of days in a month."
      ],
      "execution_count": null,
      "outputs": []
    },
    {
      "cell_type": "code",
      "metadata": {
        "colab": {
          "base_uri": "https://localhost:8080/"
        },
        "id": "Wax6B9hbJD5Q",
        "outputId": "240beef1-eda2-41e1-ca8f-8d6ca7e7f2c4"
      },
      "source": [
        "n=int(input(\"nhap vao mot thang\"))\n",
        "m=int(input('nhap vao nam'))\n",
        "if n==2 and m%4==0:\n",
        "  print('co 29 ngay')\n",
        "if n==1 or n==3 or n==5 or n==7 and n==9 or n==10 or n==12:\n",
        "  print('co 31 ngay')\n",
        "if n==4 or n==6 or n==8 or n==11:\n",
        "  print('co 30 ngay')\n",
        "if n==2 and m%4!=0:\n",
        "  print('co 28 ngay')"
      ],
      "execution_count": 24,
      "outputs": [
        {
          "output_type": "stream",
          "name": "stdout",
          "text": [
            "nhap vao mot thang2\n",
            "nhap vao nam2016\n",
            "co 29 ngay\n"
          ]
        }
      ]
    },
    {
      "cell_type": "code",
      "metadata": {
        "id": "ngfuxQylG89z"
      },
      "source": [
        "3. Write a Python program that takes a year from user and print whether that year is a leap year or\n",
        "not"
      ],
      "execution_count": null,
      "outputs": []
    },
    {
      "cell_type": "code",
      "metadata": {
        "colab": {
          "base_uri": "https://localhost:8080/"
        },
        "id": "pAbiJrF-HCkw",
        "outputId": "610db9ee-a388-4f4a-91c3-40f9037e95a5"
      },
      "source": [
        "n=int(input('nhap vao mot nam'))\n",
        "if n%4==0:\n",
        "  print(n,'la nam nhuan')\n",
        "else:\n",
        "  print(n,'khong phai la nam nhuan')"
      ],
      "execution_count": 26,
      "outputs": [
        {
          "output_type": "stream",
          "name": "stdout",
          "text": [
            "nhap vao mot nam1997\n",
            "1997 khong phai la nam nhuan\n"
          ]
        }
      ]
    },
    {
      "cell_type": "code",
      "metadata": {
        "id": "Z5wcNmW5Lwj3"
      },
      "source": [
        "Write a program in Python to input 5 numbers from keyboard and find their sum and average."
      ],
      "execution_count": null,
      "outputs": []
    },
    {
      "cell_type": "code",
      "metadata": {
        "colab": {
          "base_uri": "https://localhost:8080/"
        },
        "id": "vVY4mRB9L0Gp",
        "outputId": "b93c70fe-8090-45e1-8367-d234a6195ad5"
      },
      "source": [
        "a= int(input(\"nhap vao mot so\"))\n",
        "b= int(input(\"nhap vao mot so\"))\n",
        "c= int(input(\"nhap vao mot so\"))\n",
        "d= int(input(\"nhap vao mot so\"))\n",
        "e= int(input(\"nhap vao mot so\"))\n",
        "sum=(a+b+c+d+e)\n",
        "print(\"sum=\",sum)\n",
        "Avr=(a+b+c+d+e)/5\n",
        "print(\"Avr=\",Avr)\n"
      ],
      "execution_count": 30,
      "outputs": [
        {
          "output_type": "stream",
          "name": "stdout",
          "text": [
            "nhap vao mot so2\n",
            "nhap vao mot so4\n",
            "nhap vao mot so5\n",
            "nhap vao mot so7\n",
            "nhap vao mot so9\n",
            "sum= 27\n",
            "Avr= 5.4\n"
          ]
        }
      ]
    }
  ]
}