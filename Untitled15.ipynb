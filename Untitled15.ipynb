{
  "nbformat": 4,
  "nbformat_minor": 0,
  "metadata": {
    "colab": {
      "name": "Untitled15.ipynb",
      "provenance": [],
      "authorship_tag": "ABX9TyNNezYHlHmTeWTe3pwer824",
      "include_colab_link": true
    },
    "kernelspec": {
      "name": "python3",
      "display_name": "Python 3"
    },
    "language_info": {
      "name": "python"
    }
  },
  "cells": [
    {
      "cell_type": "markdown",
      "metadata": {
        "id": "view-in-github",
        "colab_type": "text"
      },
      "source": [
        "<a href=\"https://colab.research.google.com/github/viett887g/baitaplaptrinhn/blob/main/Untitled15.ipynb\" target=\"_parent\"><img src=\"https://colab.research.google.com/assets/colab-badge.svg\" alt=\"Open In Colab\"/></a>"
      ]
    },
    {
      "cell_type": "code",
      "metadata": {
        "id": "_8N3PNMh6TqZ"
      },
      "source": [
        "Write a Python program to find the number of days in a month."
      ],
      "execution_count": null,
      "outputs": []
    },
    {
      "cell_type": "code",
      "metadata": {
        "colab": {
          "base_uri": "https://localhost:8080/"
        },
        "id": "4GJ1ygo-5Tec",
        "outputId": "492895c1-1dd0-44a4-8405-6361fd6e0996"
      },
      "source": [
        "n=int(input(\"nhap vao mot thang\"))\n",
        "m=int(input('nhap vao nam'))\n",
        "if n==2 and m%4==0:\n",
        "  print('co 29 ngay')\n",
        "if n==1 or n==3 or n==5 or n==7 and n==9 or n==10 or n==12:\n",
        "  print('co 31 ngay')\n",
        "if n==4 or n==6 or n==8 or n==11:\n",
        "  print('co 30 ngay')\n",
        "if n==2 and m%4!=0:\n",
        "  print('co 28 ngay')"
      ],
      "execution_count": 2,
      "outputs": [
        {
          "output_type": "stream",
          "name": "stdout",
          "text": [
            "nhap vao mot thang2\n",
            "nhap vao nam2016\n",
            "co 29 ngay\n"
          ]
        }
      ]
    },
    {
      "cell_type": "code",
      "metadata": {
        "id": "5Hsb_B706P26"
      },
      "source": [
        "2"
      ],
      "execution_count": null,
      "outputs": []
    },
    {
      "cell_type": "code",
      "metadata": {
        "id": "XqHhonnf6USY"
      },
      "source": [
        "print(\"input: \")\n",
        "n = (input())\n",
        "if len(n)>1:\n",
        "  print(\"ERROR\")\n",
        "else:\n",
        "   if n == \"u\" or n == \"e\" or n == \"o\" or n == \"a\" or n == \"i\":\n",
        "    print(\"chử cái nguyên âm là\")\n",
        "   elif n == \"1\" or n == \"2\" or n == \"3\" or n == \"4\" or n == \"5\" or n == \"6\" or n == \"7\" or n == \"8\" or n == \"9\":\n",
        "     print(\"lỗi\")\n",
        "   else: \n",
        "     print(\"chử cái phụ âm la\")"
      ],
      "execution_count": null,
      "outputs": []
    },
    {
      "cell_type": "code",
      "metadata": {
        "id": "VnGlpy-E6e0Q"
      },
      "source": [
        "Write a Python program that takes a year from user and print whether that year is a leap year or\n",
        "not"
      ],
      "execution_count": null,
      "outputs": []
    },
    {
      "cell_type": "code",
      "metadata": {
        "colab": {
          "base_uri": "https://localhost:8080/"
        },
        "id": "tOSpDzv06wbH",
        "outputId": "99f52b93-ac46-4ebd-b009-6f24d71c1b10"
      },
      "source": [
        "n=int(input('nhap vao mot nam'))\n",
        "if n%4==0:\n",
        "  print(n,'la nam nhuan')\n",
        "else:\n",
        "  print(n,'khong phai la nam nhuan')"
      ],
      "execution_count": 4,
      "outputs": [
        {
          "output_type": "stream",
          "name": "stdout",
          "text": [
            "nhap vao mot nam1997\n",
            "1997 khong phai la nam nhuan\n"
          ]
        }
      ]
    },
    {
      "cell_type": "code",
      "metadata": {
        "id": "JMI_5sIi64NI"
      },
      "source": [
        "Write a program in Python to input 5 numbers from keyboard and find their sum and average."
      ],
      "execution_count": null,
      "outputs": []
    },
    {
      "cell_type": "code",
      "metadata": {
        "id": "nsGwLy5r66tI"
      },
      "source": [
        "a= int(input(\"nhap vao mot so\"))\n",
        "b= int(input(\"nhap vao mot so\"))\n",
        "c= int(input(\"nhap vao mot so\"))\n",
        "d= int(input(\"nhap vao mot so\"))\n",
        "e= int(input(\"nhap vao mot so\"))\n",
        "sum=(a+b+c+d+e)\n",
        "print(\"sum=\",sum)\n",
        "Avr=(a+b+c+d+e)/5\n",
        "print(\"Avr=\",Avr)"
      ],
      "execution_count": null,
      "outputs": []
    }
  ]
}